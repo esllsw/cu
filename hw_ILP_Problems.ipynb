{
  "nbformat": 4,
  "nbformat_minor": 0,
  "metadata": {
    "colab": {
      "provenance": []
    },
    "kernelspec": {
      "name": "python3",
      "display_name": "Python 3"
    },
    "language_info": {
      "name": "python"
    }
  },
  "cells": [
    {
      "cell_type": "markdown",
      "source": [
        "# ILP: Практическое задание\n",
        "\n",
        "В этом ноутбуке 6 задач:\n",
        "- В первом разделе ты найдешь четыре задачи на принятие решений, которые тебе нужно решить с помощью CVXPY,\n",
        "- Во втором разделе ты найдешь две задачи иссследовательского типа;\n",
        "\n",
        "**Самопроверка** Для задач первого раздела мы написали один тест, на котором ты можешь проверить свое решение. Перед отправкой своего решения убедись, что твой код дает верный ответ.\n",
        "\n",
        "*Замечание* Прохождение теста не гарантирует, что твое решение будет зачтено. Мы дополнительно проверим, что твой код написан без ошибок."
      ],
      "metadata": {
        "id": "7C2GbV4n_ZPv"
      }
    },
    {
      "cell_type": "code",
      "execution_count": null,
      "metadata": {
        "id": "NFCneS7ypMBc"
      },
      "outputs": [],
      "source": [
        "# Импортируем библиотеку\n",
        "import cvxpy as cp\n",
        "import numpy as np"
      ]
    },
    {
      "cell_type": "markdown",
      "source": [
        "# **Раздел 1**"
      ],
      "metadata": {
        "id": "2al5x4DrtalN"
      }
    },
    {
      "cell_type": "markdown",
      "source": [
        "# Задача 1. Рюкзак\n",
        "\n",
        "<img src='https://drive.google.com/uc?id=1UsNQLwcLuYUABb_KG7YtNMfmV2Lhvq8i\n",
        "' width='800'>"
      ],
      "metadata": {
        "id": "x7B5iTMIwzNg"
      }
    },
    {
      "cell_type": "code",
      "source": [
        "# задаем параметры\n",
        "W = 15\n",
        "values  =  np.array([10, 20, 9, 25, 15])\n",
        "weights =  np.array([3,  5,  2,  7, 4])"
      ],
      "metadata": {
        "id": "qiy6dBMx5wE9"
      },
      "execution_count": null,
      "outputs": []
    },
    {
      "cell_type": "code",
      "source": [
        "# РЕШЕНИЕ ЗАДАЧИ 1\n",
        "\n",
        "def solve_knapsack(values, weights, W):\n",
        "\n",
        "  \"\"\"\n",
        "  Функция для решения задачи рюкзака.\n",
        "\n",
        "  Args:\n",
        "      параметры задачи\n",
        "\n",
        "  Returns:\n",
        "      + оптимальное значение целевой функции\n",
        "      + оптимальное значение переменных\n",
        "  \"\"\"\n",
        "\n",
        "  x = cp.Variable(len(weights), boolean=True)\n",
        "\n",
        "  func = values @ x\n",
        "  constraints = [weights @ x <= W]\n",
        "\n",
        "  optimal_value = cp.Problem(cp.Maximize(func),constraints)\n",
        "  optimal_value = optimal_value.solve()\n",
        "  optimal_variables = x.value\n",
        "\n",
        "  return optimal_value, optimal_variables"
      ],
      "metadata": {
        "id": "WNGi1CWdw2LH"
      },
      "execution_count": null,
      "outputs": []
    },
    {
      "cell_type": "code",
      "source": [
        "# ТЕСТ. Если ты верно решил(а) задачу, это ячейка должна выполниться без ошибок\n",
        "# Не меняй код в этой ячейке\n",
        "\n",
        "optimal_value, optimal_variables = solve_knapsack(values, weights, W)\n",
        "\n",
        "assert optimal_value == 55.0"
      ],
      "metadata": {
        "id": "U-0KGd699ZnH"
      },
      "execution_count": null,
      "outputs": []
    },
    {
      "cell_type": "markdown",
      "source": [
        "# Задача 2. Склады\n",
        "\n",
        "\n",
        "\n",
        "<img src='https://drive.google.com/uc?id=1yY7PaR3JPaTUwqDHXZz6L90AiwTS6Wj1\n",
        "' width='600'>\n",
        "\n",
        "# Формулировка\n",
        "\n",
        "**Переменные**\n",
        "\n",
        "1. Для каждой потенциальной локации $i$ вводим бинарную переменную $x_i \\in \\{0, 1\\}$. Переменная $x_i$ равна единице, если мы арендуем склад в локации $i$.\n",
        "\n",
        "2. Для каждой пары (локация, клиент) введем переменную $y_{ij}$: количество партий воды, которые доставляются клиенту $j$ со склада $i$.\n",
        "\n",
        "---\n",
        "\n",
        "\n",
        "**Целевая функция**\n",
        "\n",
        "Комания «X» заинтересована в минимизации суммарных недельных затрат. С помощью введенных переменных суммарные затраты можно записать так:\n",
        "\n",
        "$$\\sum\\limits_i \\texttt{fixed_cost}_i \\cdot x_i + \\sum\\limits_{(i, j)} \\texttt{variable_cost}_{ij} \\cdot y_{ij}.$$\n",
        "\n",
        "- Первое слагаемое отражает суммарную стоимость недельной аренды открытых складов.\n",
        "\n",
        "- Второе слагаемое отражает стоимость, которую компании нужно тратить на доставку воды до клиентов.\n",
        "\n",
        "---\n",
        "\n",
        "**Ограничения**\n",
        "\n",
        "Введем ограничения, чтобы отразить суть задачи.\n",
        "\n",
        "1. Потребность каждого клиента должна быть удовлетворена: $$\\forall j \\quad \\sum\\limits_i y_{ij} = \\texttt{demand}_j.$$\n",
        "\n",
        "2. Со склада нельзя отправить больше воды, чем его вместимость. При этом если компания не взяла склад в аренду, то его вместимость равна 0: $$\\forall i \\quad \\sum\\limits_j y_{ij} \\le \\texttt{capacity}_i \\times x_i.$$\n",
        "\n",
        "3. Допустимые значения переменных: $$x_i \\in \\{0, 1\\}, \\ y \\in \\mathbb{Z}^{+}.$$\n",
        "\n"
      ],
      "metadata": {
        "id": "a8OwMa1t9yGj"
      }
    },
    {
      "cell_type": "code",
      "source": [
        "# задаем параметры\n",
        "\n",
        "#количество локаций и клиентов\n",
        "num_locations = 3\n",
        "num_customers = 4\n",
        "\n",
        "#стоимость недельной аренды складов\n",
        "fixed_costs = np.array([500, 700, 300])\n",
        "\n",
        "#вместимость складов\n",
        "capacities = np.array([100, 80, 120])\n",
        "\n",
        "#потребность клиентов\n",
        "demands = np.array([50, 60, 40, 70])\n",
        "\n",
        "#стоимость доставки\n",
        "variable_costs = np.array([\n",
        "    [2, 3, 1, 4],\n",
        "    [3, 1, 2, 3],\n",
        "    [4, 2, 5, 1]\n",
        "])"
      ],
      "metadata": {
        "id": "rq6Q_mQz9xEO"
      },
      "execution_count": null,
      "outputs": []
    },
    {
      "cell_type": "code",
      "source": [
        "# РЕШЕНИЕ ЗАДАЧИ 2\n",
        "\n",
        "def solve_location(num_locations, num_customers, fixed_costs,\n",
        "                   capacities, demands, variable_costs):\n",
        "\n",
        "  \"\"\"\n",
        "  Функция для решения задачи определения локаций.\n",
        "\n",
        "  Args:\n",
        "      параметры задачи\n",
        "\n",
        "  Returns:\n",
        "      + оптимальное значение целевой функции\n",
        "      + оптимальное значение переменных\n",
        "  \"\"\"\n",
        "\n",
        "  #твой код здесь\n",
        "  x = cp.Variable(num_locations,boolean=True)\n",
        "  y = cp.Variable((num_locations,num_customers),integer=True)\n",
        "\n",
        "  value = fixed_costs @ x + cp.sum(cp.multiply(variable_costs,y))\n",
        "\n",
        "  constraints = []\n",
        "  constraints.append(cp.sum(y,axis=0) == demands)\n",
        "  constraints.append(cp.sum(y,axis=1) <= cp.multiply(capacities, x))\n",
        "  constraints.append(y >= 0)\n",
        "\n",
        "  optimal_value = cp.Problem(cp.Minimize(value),constraints)\n",
        "  optimal_value = optimal_value.solve()\n",
        "  optimal_variables = [x.value, y.value]\n",
        "\n",
        "  return optimal_value, optimal_variables"
      ],
      "metadata": {
        "id": "Q7ebeGp3-eEd"
      },
      "execution_count": null,
      "outputs": []
    },
    {
      "cell_type": "code",
      "source": [
        "# ТЕСТ. Если ты верно решил(а) задачу, это ячейка должна выполниться без ошибок\n",
        "# Не меняй код в этой ячейке\n",
        "\n",
        "optimal_value, optimal_variables = solve_location(num_locations, num_customers,\n",
        "                                                  fixed_costs, capacities,\n",
        "                                                  demands, variable_costs)\n",
        "\n",
        "\n",
        "assert optimal_value == 1140.0"
      ],
      "metadata": {
        "id": "gQ8Tpi5b-f1e"
      },
      "execution_count": null,
      "outputs": []
    },
    {
      "cell_type": "markdown",
      "source": [
        "# Задача 3. Оптимизация представителей I\n",
        "\n",
        "\n",
        "<img src='https://drive.google.com/uc?id=1pUUArxSgxd1VGT01c2X2ox_NQAlsQG_z\n",
        "' width='1400'>"
      ],
      "metadata": {
        "id": "9KAKLsfU_RJD"
      }
    },
    {
      "cell_type": "code",
      "source": [
        "# задаем параметры\n",
        "\n",
        "#спрос по дням недели: сколько представителей должны работать в каждый из дней\n",
        "demand = np.array([11, 14, 13, 15, 12, 8, 7])\n",
        "\n",
        "#рейтинг представителей: чем выше рейтинг, тем лучше.\n",
        "#размер списка совпадает с общим количеством представителей\n",
        "employee_rating = np.array([99, 96,  5, 92,  1, 46,  6, 27, 74, 18, 30,  7, 75, 12, 68,  9, 22,\n",
        "       96, 41, 56,  6, 95, 89, 42, 41, 49, 58, 97, 73, 31])\n",
        "\n",
        "#дни, в которые представители недоступны\n",
        "#key: индекс представителя\n",
        "#value: дни, в которые данный представитель недоступен\n",
        "unavailable_days = {0: np.array([6]),\n",
        " 1: np.array([0, 1, 6]),\n",
        " 2: np.array([0, 1, 4, 5, 6]),\n",
        " 3: np.array([3, 6]),\n",
        " 4: np.array([]),\n",
        " 5: np.array([0, 3, 5, 6]),\n",
        " 6: np.array([2, 4]),\n",
        " 7: np.array([0, 1, 2]),\n",
        " 8: np.array([3]),\n",
        " 9: np.array([0, 1, 4, 6]),\n",
        " 10: np.array([0]),\n",
        " 11: np.array([2, 4]),\n",
        " 12: np.array([]),\n",
        " 13: np.array([0]),\n",
        " 14: np.array([3]),\n",
        " 15: np.array([1]),\n",
        " 16: np.array([0, 1, 3, 4, 5]),\n",
        " 17: np.array([]),\n",
        " 18: np.array([0, 1, 2]),\n",
        " 19: np.array([1]),\n",
        " 20: np.array([1, 2, 3, 4, 6]),\n",
        " 21: np.array([1, 3, 4, 6]),\n",
        " 22: np.array([4]),\n",
        " 23: np.array([2, 5]),\n",
        " 24: np.array([2, 3, 6]),\n",
        " 25: np.array([]),\n",
        " 26: np.array([6]),\n",
        " 27: np.array([1, 6]),\n",
        " 28: np.array([0, 5]),\n",
        " 29: np.array([])}"
      ],
      "metadata": {
        "id": "2sci963PJIfw"
      },
      "execution_count": null,
      "outputs": []
    },
    {
      "cell_type": "code",
      "source": [
        "# РЕШЕНИЕ ЗАДАЧИ 3\n",
        "\n",
        "def get_optimal_schedule(demand, employee_rating, unavailable_days):\n",
        "\n",
        "    \"\"\"\n",
        "    Функция для составления расписания иполнителей.\n",
        "\n",
        "    Args:\n",
        "        параметры задачи\n",
        "\n",
        "    Returns:\n",
        "        + оптимальное значение целевой функции\n",
        "        + оптимальное значение переменных\n",
        "    \"\"\"\n",
        "\n",
        "    #твой код здесь\n",
        "    schedule = cp.Variable((len(employee_rating),len(demand)), boolean=True)\n",
        "    constraints = []\n",
        "\n",
        "    for emp in range(len(employee_rating)):\n",
        "      for day in unavailable_days.get(emp,[]):\n",
        "        constraints.append(schedule[emp,day] == 0)\n",
        "    for day in range(len(demand)):\n",
        "      constraints.append(cp.sum(schedule[:,day]) == demand[day])\n",
        "\n",
        "    rat = cp.sum(cp.multiply(employee_rating[:, None], schedule))\n",
        "\n",
        "    optimal_value = cp.Problem(cp.Maximize(rat),constraints)\n",
        "    optimal_value = optimal_value.solve()\n",
        "    optimal_variables = schedule.value\n",
        "\n",
        "    return optimal_value, optimal_variables\n"
      ],
      "metadata": {
        "id": "aAIEUPXYQdAb"
      },
      "execution_count": null,
      "outputs": []
    },
    {
      "cell_type": "code",
      "source": [
        "# ТЕСТ. Если ты верно решил(а) задачу, это ячейка должна выполниться без ошибок\n",
        "# Не меняй код в этой ячейке\n",
        "\n",
        "\n",
        "optimal_value, optimal_variables = get_optimal_schedule(demand, employee_rating,\n",
        "                                                        unavailable_days)\n",
        "\n",
        "assert optimal_value == 6062.0"
      ],
      "metadata": {
        "id": "fTVOIEk5JrqO"
      },
      "execution_count": null,
      "outputs": []
    },
    {
      "cell_type": "markdown",
      "source": [
        "# Задача 4. Оптимизация представителей II\n",
        "\n",
        "Усложним задачу:\n",
        "- теперь у тебя есть два региона (0 и 1)\n",
        "- представители живут в одном из двух регионов\n",
        "- работа представителя в *чужом регионе* один день эквивалентна потери λ единиц суммарного рейтинга\n",
        "- в один день представитель может работать только в одном регионе\n",
        "- в некоторые дни представителей может не хватать на покрытие всего спроса\n",
        "\n",
        "Тебе нужно составить такое расписание, которое максимизирует целевую функцию.\n",
        "\n",
        "**Целевая функция в этой задаче** Сумма рейтингов работающих преставителей — штраф за работу в чужом регионе\n"
      ],
      "metadata": {
        "id": "Wy9wV2YiJ8l2"
      }
    },
    {
      "cell_type": "code",
      "source": [
        "# задаем параметры\n",
        "\n",
        "#спрос по дням недели: сколько представителей должны работать в каждый из дней в каждом регионе\n",
        "demand_1 = [35, 33, 30, 27, 26, 17, 15]\n",
        "demand_2 = [20, 17, 15, 19, 18, 13, 10]\n",
        "\n",
        "#рейтинг представителей: чем выше рейтинг, тем лучше.\n",
        "#размер списка совпадает с общим количеством представителей\n",
        "employee_rating = np.array([83, 66, 30, 64, 80, 29, 71, 50, 40, 16,  6, 30, 36, 93, 72, 21,  9,\n",
        "                            48, 72, 51, 78, 22, 31,  7, 66, 36, 11, 10, 82, 50, 58, 31, 13, 65,\n",
        "                            48, 35, 10, 14, 81, 91, 41, 80, 28, 39, 61, 39, 97, 85, 48])\n",
        "\n",
        "# регионы, в которых живут представители\n",
        "employee_home_regions = np.array([0, 1, 0, 0, 0, 1, 0, 0, 1, 0, 0, 0, 1, 1, 0, 0, 0, 1, 1, 0, 1, 1,\n",
        "                                  0, 1, 0, 1, 0, 1, 0, 0, 0, 1, 0, 1, 1, 1, 1, 0, 1, 1, 1, 1, 1, 0,\n",
        "                                  0, 0, 0, 0, 0])\n",
        "\n",
        "# штраф за работу представителя в чужом регионе\n",
        "lambda_param = 50\n",
        "\n",
        "#дни, в которые представители недоступны\n",
        "#key: индекс представителя\n",
        "#value: дни, в которые данный представитель недоступен\n",
        "unavailable_days = {0:np.array([]),\n",
        "                    1:np.array([0, 1, 2, 4, 6]),\n",
        "                    2:np.array([0, 2, 4, 6]),\n",
        "                    3:np.array([4, 5]),\n",
        "                    4:np.array([0]),\n",
        "                    5:np.array([0, 1, 3, 4, 6]),\n",
        "                    6:np.array([0, 1, 5, 6]),\n",
        "                    7:np.array([5, 6]),\n",
        "                    8:np.array([0, 2]),\n",
        "                    9:np.array([0, 1, 5, 6]),\n",
        "                    10:np.array([5,6]),\n",
        "                    11:np.array([0]),\n",
        "                    12:np.array([]),\n",
        "                    13:np.array([0, 2, 3, 5]),\n",
        "                    14:np.array([]),\n",
        "                    15:np.array([4, 5]),\n",
        "                    16:np.array([0, 4, 5]),\n",
        "                    17:np.array([4]),\n",
        "                    18:np.array([]),\n",
        "                    19:np.array([0, 1, 2, 5]),\n",
        "                    20:np.array([0, 2, 3, 4]),\n",
        "                    21:np.array([2]),\n",
        "                    22:np.array([0, 3, 6]),\n",
        "                    23:np.array([]),\n",
        "                    24:np.array([]),\n",
        "                    25:np.array([2]),\n",
        "                    26:np.array([1, 2, 3, 5, 6]),\n",
        "                    27:np.array([1, 3, 4, 5]),\n",
        "                    28:np.array([0]),\n",
        "                    29:np.array([4, 5]),\n",
        "                    30:np.array([0, 1, 3, 4, 6]),\n",
        "                    31:np.array([0, 1, 2, 6]),\n",
        "                    32:np.array([]),\n",
        "                    33:np.array([1, 4, 5]),\n",
        "                    34:np.array([0, 2, 3, 4, 5]),\n",
        "                    35:np.array([4]),\n",
        "                    36:np.array([1, 2, 3, 5]),\n",
        "                    37:np.array([0, 1, 4, 6]),\n",
        "                    38:np.array([0, 1, 6]),\n",
        "                    39:np.array([1, 2, 4, 6]),\n",
        "                    40:np.array([0, 4, 5]),\n",
        "                    41:np.array([0, 2, 4, 6]),\n",
        "                    42:np.array([3, 4, 5]),\n",
        "                    43:np.array([0, 5, 6]),\n",
        "                    44:np.array([2]),\n",
        "                    45:np.array([0, 1, 2, 3]),\n",
        "                    46:np.array([2, 4, 5]),\n",
        "                    47:np.array([5,6]),\n",
        "                    48:np.array([1, 2])\n",
        "                    }"
      ],
      "metadata": {
        "id": "eWIvWFKrKUAk"
      },
      "execution_count": null,
      "outputs": []
    },
    {
      "cell_type": "code",
      "source": [
        "#РЕШЕНИЕ ЗАДАЧИ 4\n",
        "\n",
        "def get_optimal_schedule2(demand_1, demand_2, employee_home_regions,\n",
        "                         employee_rating, unavailable_days, lambda_param):\n",
        "\n",
        "    \"\"\"\n",
        "    Функция для составления расписания иполнителей для нескольких регионов.\n",
        "\n",
        "    Args:\n",
        "        параметры задачи\n",
        "\n",
        "    Returns:\n",
        "        + оптимальное значение целевой функции\n",
        "        + оптимальное значение переменных\n",
        "    \"\"\"\n",
        "\n",
        "    #твой код здесь\n",
        "    schedule1 = cp.Variable((len(employee_rating),len(demand_1)),boolean=True)\n",
        "    schedule2 = cp.Variable((len(employee_rating),len(demand_2)),boolean=True)\n",
        "    schs = schedule1 + schedule2\n",
        "\n",
        "    constraints = []\n",
        "\n",
        "    for per in range(len(employee_rating)):\n",
        "      for day in unavailable_days.get(per,[]):\n",
        "        constraints.append(schedule1[per,day] == 0)\n",
        "        constraints.append(schedule2[per,day] == 0)\n",
        "\n",
        "    for per in range(len(employee_rating)):\n",
        "      for day in range(len(demand_1)):\n",
        "        constraints.append((schedule1[per,day] + schedule2[per,day]) <= 1)\n",
        "\n",
        "\n",
        "    for day in range(len(demand_1)):\n",
        "      constraints.append(cp.sum(schedule1[:, day]) <= demand_1[day])\n",
        "      constraints.append(cp.sum(schedule2[:,day]) <= demand_2[day])\n",
        "\n",
        "\n",
        "    forfeit = cp.sum(lambda_param * (cp.multiply((employee_home_regions == 0)[:, None], schedule2) + cp.multiply((employee_home_regions == 1)[:, None], schedule1)))\n",
        "\n",
        "    rat = cp.sum(cp.multiply(employee_rating[:, None],schs)) - forfeit\n",
        "    optimal_value = cp.Problem(cp.Maximize(rat),constraints)\n",
        "    optimal_value = optimal_value.solve()\n",
        "    optimal_variables = {'schedule1': schedule1.value, 'schedule2':schedule2.value}\n",
        "\n",
        "    return optimal_value, optimal_variables"
      ],
      "metadata": {
        "id": "EsEY4GEDQyod"
      },
      "execution_count": null,
      "outputs": []
    },
    {
      "cell_type": "code",
      "source": [
        "# ТЕСТ #1. Если ты верно решил(а) задачу, это ячейка должна выполниться без ошибок\n",
        "# Не меняй код в этой ячейке\n",
        "\n",
        "optimal_value, optimal_variables = get_optimal_schedule2(demand_1, demand_2,\n",
        "                                                        employee_home_regions,\n",
        "                                                        employee_rating,\n",
        "                                                        unavailable_days,\n",
        "                                                        lambda_param=1)\n",
        "\n",
        "assert optimal_value == 10361.0"
      ],
      "metadata": {
        "id": "sJxM1Zq_H5fE"
      },
      "execution_count": null,
      "outputs": []
    },
    {
      "cell_type": "code",
      "source": [
        "# ТЕСТ #2. Если ты верно решил(а) задачу, это ячейка должна выполниться без ошибок\n",
        "# Не меняй код в этой ячейке\n",
        "\n",
        "optimal_value, optimal_variables = get_optimal_schedule2(demand_1, demand_2,\n",
        "                                                        employee_home_regions,\n",
        "                                                        employee_rating,\n",
        "                                                        unavailable_days,\n",
        "                                                        lambda_param=50)\n",
        "\n",
        "assert optimal_value == 10307.0"
      ],
      "metadata": {
        "id": "C7u41T_DPX3J"
      },
      "execution_count": null,
      "outputs": []
    },
    {
      "cell_type": "markdown",
      "source": [
        "# **Раздел 2**"
      ],
      "metadata": {
        "id": "uMGWOEL7tfam"
      }
    },
    {
      "cell_type": "markdown",
      "source": [
        "# Задача 5. Исследование решений\n",
        "\n",
        "Возьми задачу по производству столов и стульев из тьюториала и проверь, как меняется оптимальное решение (x1 и x2) при изменении цены стула и цены стола (коэффициенты целевой функции).\n",
        "\n",
        "**Диапазон изменения цен** Рассмотри все возможные комбинации цен на столы и стулья в диапазоне от 100 до 1000. Считай, что цены на каждый предмет должны быть кратны 100.\n",
        "\n",
        "**Анализ** Какое количество разных решений ты получил(а)? Есть ли что-то особенное у этих значений?\n"
      ],
      "metadata": {
        "id": "OPDQ_bbPtyvg"
      }
    },
    {
      "cell_type": "code",
      "source": [
        "from itertools import product"
      ],
      "metadata": {
        "id": "vCCEkg7knn8_"
      },
      "execution_count": null,
      "outputs": []
    },
    {
      "cell_type": "code",
      "source": [
        "prices = np.array([100, 200, 300, 400, 500, 600, 700, 800, 900, 1000])\n",
        "\n",
        "p1_pr = prices\n",
        "p2_pr = prices\n",
        "\n",
        "results = {}"
      ],
      "metadata": {
        "id": "r88TUlI4u_MU"
      },
      "execution_count": null,
      "outputs": []
    },
    {
      "cell_type": "code",
      "source": [
        "for p1, p2 in product(p1_pr,p2_pr):\n",
        "  x1 = cp.Variable(integer=True)\n",
        "  x2 = cp.Variable(integer=True)\n",
        "\n",
        "  constraints = []\n",
        "  constraints.append(x1 + 2*x2 <= 6000)\n",
        "  constraints.append(3*x1 + x2 <= 9000)\n",
        "  constraints.append(x1 >= 0)\n",
        "  constraints.append(x2 >= 0)\n",
        "\n",
        "  rat = p1*x1 + p2*x2\n",
        "  res = cp.Problem(cp.Maximize(rat),constraints)\n",
        "  res = res.solve()\n",
        "\n",
        "  sol = (int(x1.value),int(x2.value))\n",
        "  if sol in results:\n",
        "    results[sol] += 1\n",
        "  else:\n",
        "    results[sol] = 1"
      ],
      "metadata": {
        "id": "tiB0Y1_1nfzu"
      },
      "execution_count": null,
      "outputs": []
    },
    {
      "cell_type": "code",
      "source": [
        "for results,count in sorted(results.items()):\n",
        "  print(results, count)"
      ],
      "metadata": {
        "colab": {
          "base_uri": "https://localhost:8080/"
        },
        "id": "SmYXj-D6r0lr",
        "outputId": "5b473839-b80a-4123-e437-37d04fe21d6b"
      },
      "execution_count": null,
      "outputs": [
        {
          "output_type": "stream",
          "name": "stdout",
          "text": [
            "(0, 3000) 25\n",
            "(2400, 1800) 60\n",
            "(3000, 0) 15\n"
          ]
        }
      ]
    },
    {
      "cell_type": "markdown",
      "source": [
        "- всего три различных решения\n",
        "- цены влияют на выбор между производством столов или стульев, но комбинации не дают новых решений из-за ограничения по ресурсам"
      ],
      "metadata": {
        "id": "kP0CcsC-uBPa"
      }
    },
    {
      "cell_type": "markdown",
      "source": [
        "# Задача 6. Сравнение подходов к распределению статей\n",
        "\n",
        "На лекции мы рассмотрели два подхода к распределению статей по рецензентам\n",
        "\n",
        "<img src='https://drive.google.com/uc?id=1TaeTNjtscSz5J5iYX-X-lnx6KZzLQaCh\n",
        "' width='800'>\n",
        "\n",
        "В этой задаче тебе нужно будет сравнить скорость решения задачи оптимизации для двух подходов.\n",
        "\n",
        "**Параметры задачи** Будем считать, что:\n",
        "- количество статей равно количеству рецензентов ($m = n$)\n",
        "- каждую статью должны проверить три рецензента\n",
        "- каждый рецензент может проверить до четырех статей\n",
        "- конфликтов интересов нет\n",
        "\n",
        "**Твоя задача** Для разных значений $n$ сгенерируй матрицу similarity $S$ и измерь время, которое cvxpy тратит на поиск оптимального решения в каждом из подходов. В качестве решения приведи график, на котором отложено время решения в зависимости от $n$ для каждого из подходов. Прокомментируй результат.\n",
        "\n",
        "**Подсказки**\n",
        "- начни с $n=5$ и увеличивай до тех пор, пока задача решается за разумное время\n",
        "- для каждого $n$ тебе может быть полезно решить задачу для нескольких $S$, чтобы усреднить результаты\n"
      ],
      "metadata": {
        "id": "TjP-bx0bvFGn"
      }
    },
    {
      "cell_type": "code",
      "source": [
        "#твое решение здесь"
      ],
      "metadata": {
        "id": "Rin6brEFvIFW"
      },
      "execution_count": null,
      "outputs": []
    }
  ]
}